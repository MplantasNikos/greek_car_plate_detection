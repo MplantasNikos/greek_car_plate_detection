{
 "cells": [
  {
   "cell_type": "code",
   "execution_count": null,
   "id": "518e499b",
   "metadata": {},
   "outputs": [],
   "source": []
  },
  {
   "cell_type": "markdown",
   "id": "87ee8298",
   "metadata": {},
   "source": [
    "## import pretrained model "
   ]
  },
  {
   "cell_type": "code",
   "execution_count": 1,
   "id": "307a24df",
   "metadata": {},
   "outputs": [],
   "source": [
    "from ultralytics import YOLO\n",
    "model = YOLO('best.pt')\n",
    "\n",
    "import warnings\n",
    "\n",
    "warnings.filterwarnings(\"ignore\")"
   ]
  },
  {
   "cell_type": "code",
   "execution_count": null,
   "id": "31b6fa18",
   "metadata": {},
   "outputs": [],
   "source": []
  },
  {
   "cell_type": "markdown",
   "id": "e32b7deb",
   "metadata": {},
   "source": [
    "## import images "
   ]
  },
  {
   "cell_type": "code",
   "execution_count": 2,
   "id": "b661e465",
   "metadata": {},
   "outputs": [],
   "source": [
    "import os\n",
    "import cv2\n",
    "\n",
    "path=  \"C:/Users/mplan/Desktop/my_stuff/greek_plate_recognition/YOLO/test_images\""
   ]
  },
  {
   "cell_type": "code",
   "execution_count": null,
   "id": "476d626c",
   "metadata": {},
   "outputs": [],
   "source": []
  },
  {
   "cell_type": "markdown",
   "id": "94b87134",
   "metadata": {},
   "source": [
    "## predict images and save crops "
   ]
  },
  {
   "cell_type": "code",
   "execution_count": 16,
   "id": "39ddb346",
   "metadata": {},
   "outputs": [
    {
     "name": "stderr",
     "output_type": "stream",
     "text": [
      "Ultralytics YOLOv8.0.0  Python-3.11.5 torch-2.1.1 CUDA:0 (NVIDIA GeForce RTX 4050 Laptop GPU, 6140MiB)\n",
      "Fusing layers... \n",
      "Model summary: 268 layers, 43607379 parameters, 0 gradients, 164.8 GFLOPs\n",
      "image 1/1 C:\\Users\\mplan\\Desktop\\my_stuff\\greek_plate_recognition\\YOLO\\test_images\\10_t.jpg: 480x640 1 plates, 21.8ms\n",
      "Speed: 0.0ms pre-process, 21.8ms inference, 3.0ms postprocess per image at shape (1, 3, 640, 640)\n",
      "Results saved to \u001b[1mruns\\detect\\predict\u001b[0m\n",
      "Ultralytics YOLOv8.0.0  Python-3.11.5 torch-2.1.1 CUDA:0 (NVIDIA GeForce RTX 4050 Laptop GPU, 6140MiB)\n",
      "Fusing layers... \n",
      "Model summary: 268 layers, 43607379 parameters, 0 gradients\n",
      "image 1/1 C:\\Users\\mplan\\Desktop\\my_stuff\\greek_plate_recognition\\YOLO\\test_images\\11_t.jpg: 448x640 1 plates, 18.0ms\n",
      "Speed: 0.0ms pre-process, 18.0ms inference, 3.0ms postprocess per image at shape (1, 3, 640, 640)\n",
      "Results saved to \u001b[1mruns\\detect\\predict2\u001b[0m\n",
      "Ultralytics YOLOv8.0.0  Python-3.11.5 torch-2.1.1 CUDA:0 (NVIDIA GeForce RTX 4050 Laptop GPU, 6140MiB)\n",
      "Fusing layers... \n",
      "Model summary: 268 layers, 43607379 parameters, 0 gradients\n",
      "image 1/1 C:\\Users\\mplan\\Desktop\\my_stuff\\greek_plate_recognition\\YOLO\\test_images\\12_t.jpg: 448x640 1 plates, 18.0ms\n",
      "Speed: 0.0ms pre-process, 18.0ms inference, 3.0ms postprocess per image at shape (1, 3, 640, 640)\n",
      "Results saved to \u001b[1mruns\\detect\\predict3\u001b[0m\n",
      "Ultralytics YOLOv8.0.0  Python-3.11.5 torch-2.1.1 CUDA:0 (NVIDIA GeForce RTX 4050 Laptop GPU, 6140MiB)\n",
      "Fusing layers... \n",
      "Model summary: 268 layers, 43607379 parameters, 0 gradients\n",
      "image 1/1 C:\\Users\\mplan\\Desktop\\my_stuff\\greek_plate_recognition\\YOLO\\test_images\\13_t.jpg: 448x640 1 plates, 22.6ms\n",
      "Speed: 1.0ms pre-process, 22.6ms inference, 3.0ms postprocess per image at shape (1, 3, 640, 640)\n",
      "Results saved to \u001b[1mruns\\detect\\predict4\u001b[0m\n",
      "Ultralytics YOLOv8.0.0  Python-3.11.5 torch-2.1.1 CUDA:0 (NVIDIA GeForce RTX 4050 Laptop GPU, 6140MiB)\n",
      "Fusing layers... \n",
      "Model summary: 268 layers, 43607379 parameters, 0 gradients\n",
      "image 1/1 C:\\Users\\mplan\\Desktop\\my_stuff\\greek_plate_recognition\\YOLO\\test_images\\1_t.jpg: 448x640 1 plates, 18.1ms\n",
      "Speed: 0.0ms pre-process, 18.1ms inference, 2.6ms postprocess per image at shape (1, 3, 640, 640)\n",
      "Results saved to \u001b[1mruns\\detect\\predict5\u001b[0m\n",
      "Ultralytics YOLOv8.0.0  Python-3.11.5 torch-2.1.1 CUDA:0 (NVIDIA GeForce RTX 4050 Laptop GPU, 6140MiB)\n",
      "Fusing layers... \n",
      "Model summary: 268 layers, 43607379 parameters, 0 gradients\n",
      "image 1/1 C:\\Users\\mplan\\Desktop\\my_stuff\\greek_plate_recognition\\YOLO\\test_images\\2_t.jpg: 384x640 1 plates, 25.1ms\n",
      "Speed: 0.0ms pre-process, 25.1ms inference, 5.6ms postprocess per image at shape (1, 3, 640, 640)\n",
      "Results saved to \u001b[1mruns\\detect\\predict6\u001b[0m\n",
      "Ultralytics YOLOv8.0.0  Python-3.11.5 torch-2.1.1 CUDA:0 (NVIDIA GeForce RTX 4050 Laptop GPU, 6140MiB)\n",
      "Fusing layers... \n",
      "Model summary: 268 layers, 43607379 parameters, 0 gradients\n",
      "image 1/1 C:\\Users\\mplan\\Desktop\\my_stuff\\greek_plate_recognition\\YOLO\\test_images\\3_t.jpg: 448x640 40.0ms\n",
      "Speed: 1.0ms pre-process, 40.0ms inference, 1.0ms postprocess per image at shape (1, 3, 640, 640)\n",
      "Results saved to \u001b[1mruns\\detect\\predict7\u001b[0m\n",
      "Ultralytics YOLOv8.0.0  Python-3.11.5 torch-2.1.1 CUDA:0 (NVIDIA GeForce RTX 4050 Laptop GPU, 6140MiB)\n",
      "Fusing layers... \n",
      "Model summary: 268 layers, 43607379 parameters, 0 gradients\n",
      "image 1/1 C:\\Users\\mplan\\Desktop\\my_stuff\\greek_plate_recognition\\YOLO\\test_images\\4_t.jpg: 480x640 19.0ms\n",
      "Speed: 0.0ms pre-process, 19.0ms inference, 1.0ms postprocess per image at shape (1, 3, 640, 640)\n",
      "Results saved to \u001b[1mruns\\detect\\predict8\u001b[0m\n",
      "Ultralytics YOLOv8.0.0  Python-3.11.5 torch-2.1.1 CUDA:0 (NVIDIA GeForce RTX 4050 Laptop GPU, 6140MiB)\n",
      "Fusing layers... \n",
      "Model summary: 268 layers, 43607379 parameters, 0 gradients\n",
      "image 1/1 C:\\Users\\mplan\\Desktop\\my_stuff\\greek_plate_recognition\\YOLO\\test_images\\5.jpg: 640x480 1 plates, 23.0ms\n",
      "Speed: 0.0ms pre-process, 23.0ms inference, 2.0ms postprocess per image at shape (1, 3, 640, 640)\n",
      "Results saved to \u001b[1mruns\\detect\\predict9\u001b[0m\n",
      "Ultralytics YOLOv8.0.0  Python-3.11.5 torch-2.1.1 CUDA:0 (NVIDIA GeForce RTX 4050 Laptop GPU, 6140MiB)\n",
      "Fusing layers... \n",
      "Model summary: 268 layers, 43607379 parameters, 0 gradients\n",
      "image 1/1 C:\\Users\\mplan\\Desktop\\my_stuff\\greek_plate_recognition\\YOLO\\test_images\\5_t.jpg: 512x640 1 plates, 30.6ms\n",
      "Speed: 1.0ms pre-process, 30.6ms inference, 2.0ms postprocess per image at shape (1, 3, 640, 640)\n",
      "Results saved to \u001b[1mruns\\detect\\predict10\u001b[0m\n",
      "Ultralytics YOLOv8.0.0  Python-3.11.5 torch-2.1.1 CUDA:0 (NVIDIA GeForce RTX 4050 Laptop GPU, 6140MiB)\n",
      "Fusing layers... \n",
      "Model summary: 268 layers, 43607379 parameters, 0 gradients\n",
      "image 1/1 C:\\Users\\mplan\\Desktop\\my_stuff\\greek_plate_recognition\\YOLO\\test_images\\6_t.jpg: 512x640 1 plates, 33.7ms\n",
      "Speed: 1.0ms pre-process, 33.7ms inference, 4.0ms postprocess per image at shape (1, 3, 640, 640)\n",
      "Results saved to \u001b[1mruns\\detect\\predict11\u001b[0m\n",
      "Ultralytics YOLOv8.0.0  Python-3.11.5 torch-2.1.1 CUDA:0 (NVIDIA GeForce RTX 4050 Laptop GPU, 6140MiB)\n",
      "Fusing layers... \n",
      "Model summary: 268 layers, 43607379 parameters, 0 gradients\n",
      "image 1/1 C:\\Users\\mplan\\Desktop\\my_stuff\\greek_plate_recognition\\YOLO\\test_images\\7_t.jpg: 480x640 1 plates, 31.0ms\n",
      "Speed: 0.0ms pre-process, 31.0ms inference, 4.1ms postprocess per image at shape (1, 3, 640, 640)\n",
      "Results saved to \u001b[1mruns\\detect\\predict12\u001b[0m\n",
      "Ultralytics YOLOv8.0.0  Python-3.11.5 torch-2.1.1 CUDA:0 (NVIDIA GeForce RTX 4050 Laptop GPU, 6140MiB)\n",
      "Fusing layers... \n",
      "Model summary: 268 layers, 43607379 parameters, 0 gradients\n",
      "image 1/1 C:\\Users\\mplan\\Desktop\\my_stuff\\greek_plate_recognition\\YOLO\\test_images\\8_t.jpg: 512x640 32.0ms\n",
      "Speed: 1.1ms pre-process, 32.0ms inference, 1.0ms postprocess per image at shape (1, 3, 640, 640)\n",
      "Results saved to \u001b[1mruns\\detect\\predict13\u001b[0m\n",
      "Ultralytics YOLOv8.0.0  Python-3.11.5 torch-2.1.1 CUDA:0 (NVIDIA GeForce RTX 4050 Laptop GPU, 6140MiB)\n",
      "Fusing layers... \n",
      "Model summary: 268 layers, 43607379 parameters, 0 gradients\n",
      "image 1/1 C:\\Users\\mplan\\Desktop\\my_stuff\\greek_plate_recognition\\YOLO\\test_images\\9_t.jpg: 448x640 2 platess, 40.3ms\n",
      "Speed: 1.0ms pre-process, 40.3ms inference, 3.0ms postprocess per image at shape (1, 3, 640, 640)\n",
      "Results saved to \u001b[1mruns\\detect\\predict14\u001b[0m\n"
     ]
    }
   ],
   "source": [
    "for  file in os.listdir(path):\n",
    "    \n",
    "    filename = path + '/' +  file\n",
    "    model.predict(filename,save=True,save_crop=True,hide_conf=True,hide_labels=True)"
   ]
  },
  {
   "cell_type": "code",
   "execution_count": null,
   "id": "e1e99518",
   "metadata": {},
   "outputs": [],
   "source": []
  },
  {
   "cell_type": "code",
   "execution_count": null,
   "id": "c44189c9",
   "metadata": {},
   "outputs": [],
   "source": []
  },
  {
   "cell_type": "markdown",
   "id": "d47db6b2",
   "metadata": {},
   "source": [
    "## get the results"
   ]
  },
  {
   "cell_type": "code",
   "execution_count": 17,
   "id": "d6d52368",
   "metadata": {},
   "outputs": [],
   "source": [
    "path = \"C:/Users/mplan/Desktop/my_stuff/greek_plate_recognition/YOLO/runs/detect\""
   ]
  },
  {
   "cell_type": "code",
   "execution_count": 18,
   "id": "fdfd8158",
   "metadata": {},
   "outputs": [],
   "source": [
    "images = []\n",
    "for file in os.listdir(path):\n",
    "    path1 = path + '/' + file\n",
    "    \n",
    "    for file1 in os.listdir(path1):\n",
    "        if file1 == 'crops':\n",
    "            path2 = path1 + '/' + file1\n",
    "            \n",
    "            for file2  in os.listdir(path2):\n",
    "                path3 = path2 + '/' + file2\n",
    "                \n",
    "                for file3 in os.listdir(path3):\n",
    "                    image = path3 + '/' + file3\n",
    "                    images.append(image)\n",
    "                \n"
   ]
  },
  {
   "cell_type": "code",
   "execution_count": 19,
   "id": "ea491f46",
   "metadata": {},
   "outputs": [
    {
     "data": {
      "text/plain": [
       "12"
      ]
     },
     "execution_count": 19,
     "metadata": {},
     "output_type": "execute_result"
    }
   ],
   "source": [
    "len(images)"
   ]
  },
  {
   "cell_type": "code",
   "execution_count": 20,
   "id": "48fcfd4c",
   "metadata": {},
   "outputs": [
    {
     "data": {
      "text/plain": [
       "['C:/Users/mplan/Desktop/my_stuff/greek_plate_recognition/YOLO/runs/detect/predict/crops/plates/10_t.jpg',\n",
       " 'C:/Users/mplan/Desktop/my_stuff/greek_plate_recognition/YOLO/runs/detect/predict10/crops/plates/5_t.jpg',\n",
       " 'C:/Users/mplan/Desktop/my_stuff/greek_plate_recognition/YOLO/runs/detect/predict11/crops/plates/6_t.jpg',\n",
       " 'C:/Users/mplan/Desktop/my_stuff/greek_plate_recognition/YOLO/runs/detect/predict12/crops/plates/7_t.jpg',\n",
       " 'C:/Users/mplan/Desktop/my_stuff/greek_plate_recognition/YOLO/runs/detect/predict14/crops/plates/9_t.jpg',\n",
       " 'C:/Users/mplan/Desktop/my_stuff/greek_plate_recognition/YOLO/runs/detect/predict14/crops/plates/9_t2.jpg',\n",
       " 'C:/Users/mplan/Desktop/my_stuff/greek_plate_recognition/YOLO/runs/detect/predict2/crops/plates/11_t.jpg',\n",
       " 'C:/Users/mplan/Desktop/my_stuff/greek_plate_recognition/YOLO/runs/detect/predict3/crops/plates/12_t.jpg',\n",
       " 'C:/Users/mplan/Desktop/my_stuff/greek_plate_recognition/YOLO/runs/detect/predict4/crops/plates/13_t.jpg',\n",
       " 'C:/Users/mplan/Desktop/my_stuff/greek_plate_recognition/YOLO/runs/detect/predict5/crops/plates/1_t.jpg',\n",
       " 'C:/Users/mplan/Desktop/my_stuff/greek_plate_recognition/YOLO/runs/detect/predict6/crops/plates/2_t.jpg',\n",
       " 'C:/Users/mplan/Desktop/my_stuff/greek_plate_recognition/YOLO/runs/detect/predict9/crops/plates/5.jpg']"
      ]
     },
     "execution_count": 20,
     "metadata": {},
     "output_type": "execute_result"
    }
   ],
   "source": [
    "images"
   ]
  },
  {
   "cell_type": "code",
   "execution_count": null,
   "id": "17194774",
   "metadata": {},
   "outputs": [],
   "source": []
  }
 ],
 "metadata": {
  "kernelspec": {
   "display_name": "Python 3 (ipykernel)",
   "language": "python",
   "name": "python3"
  },
  "language_info": {
   "codemirror_mode": {
    "name": "ipython",
    "version": 3
   },
   "file_extension": ".py",
   "mimetype": "text/x-python",
   "name": "python",
   "nbconvert_exporter": "python",
   "pygments_lexer": "ipython3",
   "version": "3.11.5"
  }
 },
 "nbformat": 4,
 "nbformat_minor": 5
}
